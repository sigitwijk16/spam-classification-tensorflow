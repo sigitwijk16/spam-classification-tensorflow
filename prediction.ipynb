{
 "cells": [
  {
   "cell_type": "code",
   "execution_count": 4,
   "metadata": {},
   "outputs": [
    {
     "name": "stderr",
     "output_type": "stream",
     "text": [
      "[nltk_data] Downloading package stopwords to\n",
      "[nltk_data]     C:\\Users\\kicot\\AppData\\Roaming\\nltk_data...\n",
      "[nltk_data]   Package stopwords is already up-to-date!\n",
      "[nltk_data] Downloading package punkt to\n",
      "[nltk_data]     C:\\Users\\kicot\\AppData\\Roaming\\nltk_data...\n",
      "[nltk_data]   Package punkt is already up-to-date!\n"
     ]
    },
    {
     "data": {
      "text/plain": [
       "True"
      ]
     },
     "execution_count": 4,
     "metadata": {},
     "output_type": "execute_result"
    }
   ],
   "source": [
    "import requests\n",
    "import tensorflow as tf\n",
    "import base64\n",
    "import nltk\n",
    "import re\n",
    "from nltk.tokenize import word_tokenize\n",
    "from nltk.stem import PorterStemmer\n",
    "from nltk.corpus import stopwords\n",
    "from pprint import PrettyPrinter\n",
    "nltk.download('stopwords')\n",
    "nltk.download('punkt')"
   ]
  },
  {
   "cell_type": "code",
   "execution_count": 15,
   "metadata": {},
   "outputs": [
    {
     "name": "stdout",
     "output_type": "stream",
     "text": [
      "{'model_version_status': [{'state': 'AVAILABLE',\n",
      "                           'status': {'error_code': 'OK', 'error_message': ''},\n",
      "                           'version': '1715276941'}]}\n"
     ]
    }
   ],
   "source": [
    "pp = PrettyPrinter()\n",
    "pp.pprint(requests.get(\"http://localhost:8080/v1/models/spam-classification-model\").json())"
   ]
  },
  {
   "cell_type": "code",
   "execution_count": 9,
   "metadata": {},
   "outputs": [
    {
     "name": "stderr",
     "output_type": "stream",
     "text": [
      "<>:9: SyntaxWarning: invalid escape sequence '\\w'\n",
      "<>:9: SyntaxWarning: invalid escape sequence '\\w'\n",
      "C:\\Users\\kicot\\AppData\\Local\\Temp\\ipykernel_22016\\420488827.py:9: SyntaxWarning: invalid escape sequence '\\w'\n",
      "  text = re.sub('\\w*\\d\\w*', '', text)\n"
     ]
    }
   ],
   "source": [
    "stemmer = PorterStemmer()\n",
    "stop_words = stopwords.words('english')\n",
    "\n",
    "def clean_text(text):\n",
    "    text = text.lower()\n",
    "    text = re.sub(r'http\\S+', '', text)\n",
    "    text = re.sub(r'www\\.\\S+', '', text)\n",
    "    text = re.sub(r'[^\\w\\s]', '', text)\n",
    "    text = re.sub('\\w*\\d\\w*', '', text)\n",
    "    tokens = word_tokenize(text)\n",
    "    cleaned_tokens = [stemmer.stem(token) for token in tokens if token not in stop_words]\n",
    "    cleaned_text = ' '.join(cleaned_tokens)\n",
    "    return cleaned_text\n",
    "\n",
    "def _bytes_feature(value):\n",
    "    return tf.train.Feature(bytes_list=tf.train.BytesList(value=[value]))\n",
    "\n",
    "def serialize_text(text):\n",
    "    example = tf.train.Example(features=tf.train.Features(feature={\n",
    "        'text': _bytes_feature(text)\n",
    "        }))\n",
    "    serialized_example = example.SerializeToString()\n",
    "    return serialized_example"
   ]
  },
  {
   "cell_type": "code",
   "execution_count": 31,
   "metadata": {},
   "outputs": [
    {
     "name": "stdout",
     "output_type": "stream",
     "text": [
      "Dear Valued Customer, Congratulations! You've been selected for an exclusive opportunity to receive a special gift, absolutely FREE! But hurry, this offer is only available for a limited time! Claim your free gift now by clicking the link below and entering your details, Claim Your Free Gift Now. Don't miss out on this amazing opportunity to get something for nothing! Act fast before its too late! Warm Regards\n",
      " Klasifikasi:Error: {\n",
      "    \"error\": \"Name: <unknown>, Feature:  (data type: int64) is required but could not be found.\\n\\t [[{{function_node __inference_serve_tf_examples_fn_271272}}{{node ParseExample/ParseExampleV2}}]]\"\n",
      "}\n"
     ]
    }
   ],
   "source": [
    "end_point = 'http://localhost:8080/v1/models/spam-classification-model:predict'\n",
    "\n",
    "def predict(input):\n",
    "    text = clean_text(input)\n",
    "    text = text.encode('utf-8')\n",
    "    example = serialize_text(text)\n",
    "    json_data = {\n",
    "        \"signature_name\":\"serving_default\",\n",
    "        \"instances\":[\n",
    "            {\n",
    "                \"examples\":{\"b64\": base64.b64encode(example).decode('utf-8')}\n",
    "            }\n",
    "        ]\n",
    "    }\n",
    "    response = requests.post(end_point, json=json_data)\n",
    "    prediction = response.json().get(\"predictions\")\n",
    "    if prediction:\n",
    "        prediction_value = prediction[0][0]\n",
    "        return f\"Prediction: {prediction_value}\"\n",
    "    else:\n",
    "        return f\"Error: {response.text}\"\n",
    "    \n",
    "\n",
    "text = \"Dear Valued Customer, Congratulations! You've been selected for an exclusive opportunity to receive a special gift, absolutely FREE! But hurry, this offer is only available for a limited time! Claim your free gift now by clicking the link below and entering your details, Claim Your Free Gift Now. Don't miss out on this amazing opportunity to get something for nothing! Act fast before its too late! Warm Regards\"\n",
    "\n",
    "\n",
    "print(f\"{text}\\n Klasifikasi:{predict(text)}\")"
   ]
  },
  {
   "cell_type": "code",
   "execution_count": 27,
   "metadata": {},
   "outputs": [
    {
     "name": "stdout",
     "output_type": "stream",
     "text": [
      "Dear Valued Customer, Congratulations! You've been selected for an exclusive opportunity to receive a special gift, absolutely FREE! But hurry, this offer is only available for a limited time! Claim your free gift now by clicking the link below and entering your details, Claim Your Free Gift Now. Don't miss out on this amazing opportunity to get something for nothing! Act fast before its too late! Warm Regards\n",
      " Klasifikasi:Error: {\n",
      "    \"error\": \"Servable not found for request: Latest(spam-classfication-model)\"\n",
      "}\n"
     ]
    }
   ],
   "source": [
    "end_point = 'http://localhost:8080/v1/models/spam-classfication-model:predict'\n",
    "\n",
    "def predict(input):\n",
    "    text = clean_text(input)\n",
    "    text = text.encode('utf-8')\n",
    "    example = serialize_text(text)\n",
    "    json_data = {\n",
    "        \"signature_name\":\"serving_default\",\n",
    "        \"instances\":[\n",
    "            {\n",
    "                \"examples\":{\"b64\": base64.b64encode(example).decode('utf-8')}\n",
    "            }\n",
    "        ]\n",
    "    }\n",
    "    response = requests.post(end_point, json=json_data)\n",
    "    prediction = response.json().get(\"predictions\")\n",
    "    if prediction:\n",
    "        prediction_value = prediction[0][0]\n",
    "        return f\"Prediction: {prediction_value}\"\n",
    "    else:\n",
    "        return f\"Error: {response.text}\"\n",
    "    \n",
    "\n",
    "text = \"Dear Valued Customer, Congratulations! You've been selected for an exclusive opportunity to receive a special gift, absolutely FREE! But hurry, this offer is only available for a limited time! Claim your free gift now by clicking the link below and entering your details, Claim Your Free Gift Now. Don't miss out on this amazing opportunity to get something for nothing! Act fast before its too late! Warm Regards\"\n",
    "\n",
    "\n",
    "print(f\"{text}\\n Klasifikasi:{predict(text)}\")"
   ]
  },
  {
   "cell_type": "code",
   "execution_count": 23,
   "metadata": {},
   "outputs": [
    {
     "name": "stdout",
     "output_type": "stream",
     "text": [
      "jiasdfsa jfk\n",
      " classifisi:Error: {\n",
      "    \"error\": \"Servable not found for request: Latest(1715276941)\"\n",
      "}\n"
     ]
    }
   ],
   "source": [
    "text = input(\"masukkan text: \")\n",
    "\n",
    "print(f\"{text}\\n classifisi:{predict(text)}\")"
   ]
  }
 ],
 "metadata": {
  "kernelspec": {
   "display_name": "myenv",
   "language": "python",
   "name": "python3"
  },
  "language_info": {
   "codemirror_mode": {
    "name": "ipython",
    "version": 3
   },
   "file_extension": ".py",
   "mimetype": "text/x-python",
   "name": "python",
   "nbconvert_exporter": "python",
   "pygments_lexer": "ipython3",
   "version": "3.12.2"
  }
 },
 "nbformat": 4,
 "nbformat_minor": 2
}
